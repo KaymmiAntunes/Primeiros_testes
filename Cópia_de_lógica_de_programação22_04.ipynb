{
  "nbformat": 4,
  "nbformat_minor": 0,
  "metadata": {
    "colab": {
      "name": "Cópia de lógica de programação22.04.ipynb",
      "provenance": [],
      "collapsed_sections": []
    },
    "kernelspec": {
      "name": "python3",
      "display_name": "Python 3"
    },
    "language_info": {
      "name": "python"
    }
  },
  "cells": [
    {
      "cell_type": "markdown",
      "source": [
        "### Lógica de programação"
      ],
      "metadata": {
        "id": "MzwOCIy06kSy"
      }
    },
    {
      "cell_type": "code",
      "source": [
        "nome = \"kaymmi\""
      ],
      "metadata": {
        "id": "F7oJVsRb7ciM"
      },
      "execution_count": 145,
      "outputs": []
    },
    {
      "cell_type": "code",
      "source": [
        "1+1\n"
      ],
      "metadata": {
        "colab": {
          "base_uri": "https://localhost:8080/"
        },
        "id": "Uh2-04a97hcm",
        "outputId": "2d962325-1d25-4f97-bc80-fab8288bfa1f"
      },
      "execution_count": 146,
      "outputs": [
        {
          "output_type": "execute_result",
          "data": {
            "text/plain": [
              "2"
            ]
          },
          "metadata": {},
          "execution_count": 146
        }
      ]
    },
    {
      "cell_type": "code",
      "source": [
        "'Kaymmi'"
      ],
      "metadata": {
        "colab": {
          "base_uri": "https://localhost:8080/",
          "height": 36
        },
        "id": "EhMFvO6C7llS",
        "outputId": "645b7f51-0c09-4523-f580-53378132cab7"
      },
      "execution_count": 147,
      "outputs": [
        {
          "output_type": "execute_result",
          "data": {
            "text/plain": [
              "'Kaymmi'"
            ],
            "application/vnd.google.colaboratory.intrinsic+json": {
              "type": "string"
            }
          },
          "metadata": {},
          "execution_count": 147
        }
      ]
    },
    {
      "cell_type": "code",
      "source": [
        "nome= 'Kaymmi'"
      ],
      "metadata": {
        "id": "hrT74qJX7rlP"
      },
      "execution_count": 148,
      "outputs": []
    },
    {
      "cell_type": "code",
      "source": [
        "idade= 25\n"
      ],
      "metadata": {
        "id": "rgGXZHFi7uC_"
      },
      "execution_count": 149,
      "outputs": []
    },
    {
      "cell_type": "code",
      "source": [
        "idade"
      ],
      "metadata": {
        "colab": {
          "base_uri": "https://localhost:8080/"
        },
        "id": "3Vt8MkXe72OD",
        "outputId": "ed2f8d6e-bced-416a-aeb7-74ff778c6591"
      },
      "execution_count": 150,
      "outputs": [
        {
          "output_type": "execute_result",
          "data": {
            "text/plain": [
              "25"
            ]
          },
          "metadata": {},
          "execution_count": 150
        }
      ]
    },
    {
      "cell_type": "code",
      "source": [
        "nome"
      ],
      "metadata": {
        "colab": {
          "base_uri": "https://localhost:8080/",
          "height": 36
        },
        "id": "oV3Ifk7u73pH",
        "outputId": "c05dd994-fb25-4114-f72f-bb0c65cc932b"
      },
      "execution_count": 151,
      "outputs": [
        {
          "output_type": "execute_result",
          "data": {
            "text/plain": [
              "'Kaymmi'"
            ],
            "application/vnd.google.colaboratory.intrinsic+json": {
              "type": "string"
            }
          },
          "metadata": {},
          "execution_count": 151
        }
      ]
    },
    {
      "cell_type": "code",
      "source": [
        "print(f'meu nome é {nome} e minha idade é de {idade} anos' )"
      ],
      "metadata": {
        "colab": {
          "base_uri": "https://localhost:8080/"
        },
        "id": "IMNLAOEK74aC",
        "outputId": "0ca19525-ab57-4b8c-c0a7-bfc635a033e6"
      },
      "execution_count": 152,
      "outputs": [
        {
          "output_type": "stream",
          "name": "stdout",
          "text": [
            "meu nome é Kaymmi e minha idade é de 25 anos\n"
          ]
        }
      ]
    },
    {
      "cell_type": "code",
      "source": [
        "idade= 25"
      ],
      "metadata": {
        "id": "GDLNup0p84q9"
      },
      "execution_count": 156,
      "outputs": []
    },
    {
      "cell_type": "code",
      "source": [
        "print(f'minha idade atual é {idade}')"
      ],
      "metadata": {
        "colab": {
          "base_uri": "https://localhost:8080/"
        },
        "id": "e6z4khZz88FJ",
        "outputId": "207cb0bb-f9e2-4830-f9f7-07c9a1e98219"
      },
      "execution_count": 157,
      "outputs": [
        {
          "output_type": "stream",
          "name": "stdout",
          "text": [
            "minha idade atual é 25\n"
          ]
        }
      ]
    },
    {
      "cell_type": "markdown",
      "source": [
        "# CRINADO A PRIMEIRA FUNÇÃO"
      ],
      "metadata": {
        "id": "XndyhWfd9xQG"
      }
    },
    {
      "cell_type": "code",
      "source": [
        "def saudacao():\n",
        "  nome = input (\"Qual o seu nome\")\n",
        "  print (f\"Ola {nome}\")"
      ],
      "metadata": {
        "id": "T7FE5xr392ym"
      },
      "execution_count": 74,
      "outputs": []
    },
    {
      "cell_type": "code",
      "source": [
        "def saudacao():\n",
        "  nome = input('Qual o seu nome?')\n",
        "  print(f'Ola {nome}!')"
      ],
      "metadata": {
        "id": "hH1fshLm_qys"
      },
      "execution_count": 78,
      "outputs": []
    },
    {
      "cell_type": "code",
      "source": [
        "saudacao()"
      ],
      "metadata": {
        "colab": {
          "base_uri": "https://localhost:8080/"
        },
        "id": "4MdmOKTOAUjU",
        "outputId": "81ec4334-3f2a-43e0-fa15-af943a3facdb"
      },
      "execution_count": 79,
      "outputs": [
        {
          "output_type": "stream",
          "name": "stdout",
          "text": [
            "Qual o seu nome?Kaymmi\n",
            "Ola Kaymmi!\n"
          ]
        }
      ]
    },
    {
      "cell_type": "code",
      "source": [
        "def nome_completo():\n",
        "  nome_primeiro = input('Qual o seu primeiro nome?')\n",
        "  sobrenome = input('Qual seu sobrenome')\n",
        "  nome_completo = (nome_primeiro+\" \"+sobrenome)\n",
        "  print(f' Seu nome é {nome_completo}')"
      ],
      "metadata": {
        "id": "CY4h-N0jBqVv"
      },
      "execution_count": 83,
      "outputs": []
    },
    {
      "cell_type": "code",
      "source": [
        "nome_completo()"
      ],
      "metadata": {
        "colab": {
          "base_uri": "https://localhost:8080/"
        },
        "id": "11NBa2tVJXNn",
        "outputId": "e9464eaa-c00d-4b85-a376-dea59c55c8b7"
      },
      "execution_count": 84,
      "outputs": [
        {
          "output_type": "stream",
          "name": "stdout",
          "text": [
            "Qual o seu primeiro nome?Kaymmi\n",
            "Qual seu sobrenomeAntunes\n",
            " Seu nome é Kaymmi Antunes\n"
          ]
        }
      ]
    },
    {
      "cell_type": "markdown",
      "source": [
        "# Nome com Parâmetro"
      ],
      "metadata": {
        "id": "exiAnVoYQLF-"
      }
    },
    {
      "cell_type": "code",
      "source": [
        "nome = 'Kaymmi'\n"
      ],
      "metadata": {
        "id": "r3TJA02NQPKg"
      },
      "execution_count": 85,
      "outputs": []
    },
    {
      "cell_type": "code",
      "source": [
        "def saudacao_com_condicai( nome_da_pessoa):\n",
        "  print(f\"Olá {nome_da_pessoa}\")"
      ],
      "metadata": {
        "id": "bFoR68CwQfD7"
      },
      "execution_count": 86,
      "outputs": []
    },
    {
      "cell_type": "code",
      "source": [
        "saudacao_com_condicai(nome)"
      ],
      "metadata": {
        "colab": {
          "base_uri": "https://localhost:8080/"
        },
        "id": "rNmOOvpSQzad",
        "outputId": "74d95901-8786-4017-fcd7-94b53f748e11"
      },
      "execution_count": 87,
      "outputs": [
        {
          "output_type": "stream",
          "name": "stdout",
          "text": [
            "Olá Kaymmi\n"
          ]
        }
      ]
    },
    {
      "cell_type": "markdown",
      "source": [
        "# Condição"
      ],
      "metadata": {
        "id": "FKRAYGmURkZO"
      }
    },
    {
      "cell_type": "code",
      "source": [
        "idade = 15\n",
        "def verificar_dirigir(idade): \n",
        "  if idade >= 18:\n",
        "    print( 'Pode dirigir amigão!')\n",
        "  else:\n",
        "    print('Sua hora via chegar!')\n",
        "verificar_dirigir(idade)\n"
      ],
      "metadata": {
        "colab": {
          "base_uri": "https://localhost:8080/"
        },
        "id": "Kr1MMGnkRn0m",
        "outputId": "1e8ff0a5-10a6-4a0a-92cb-398a6a967caa"
      },
      "execution_count": 92,
      "outputs": [
        {
          "output_type": "stream",
          "name": "stdout",
          "text": [
            "Sua hora via chegar!\n"
          ]
        }
      ]
    },
    {
      "cell_type": "code",
      "source": [
        "def verificacao_idade():\n",
        "  idade = input('Informe sua idade: ')\n",
        "  idade = int(idade)\n",
        "  if idade >= 18:\n",
        "    print(\" Tá liberado amigão! \")\n",
        "  else:\n",
        "    print(\"sua hora chegará! \")\n",
        "verificacao_idade()"
      ],
      "metadata": {
        "colab": {
          "base_uri": "https://localhost:8080/"
        },
        "id": "gfkXlJUfY1fy",
        "outputId": "c8f1e95c-aee0-4c64-f15a-91135e510547"
      },
      "execution_count": 95,
      "outputs": [
        {
          "output_type": "stream",
          "name": "stdout",
          "text": [
            "Informe sua idade: 15\n",
            "sua hora chegará! \n"
          ]
        }
      ]
    },
    {
      "cell_type": "code",
      "source": [
        "verificacao_idade()\n"
      ],
      "metadata": {
        "colab": {
          "base_uri": "https://localhost:8080/"
        },
        "id": "o7HiwlwPfXCT",
        "outputId": "d6453285-3a8d-4af4-b8a1-0b5e7f228981"
      },
      "execution_count": 96,
      "outputs": [
        {
          "output_type": "stream",
          "name": "stdout",
          "text": [
            "Informe sua idade: 17\n",
            "sua hora chegará! \n"
          ]
        }
      ]
    },
    {
      "cell_type": "markdown",
      "source": [
        "# COnvertendo tipo para inteiro"
      ],
      "metadata": {
        "id": "nF5JoPorisLS"
      }
    },
    {
      "cell_type": "code",
      "source": [
        "def verificacao_idade():\n",
        "  idade = input('Informe sua idade: ')\n",
        "  idade = int(idade)\n",
        "  if idade >= 18:\n",
        "    print(\" Tá liberado! \")\n",
        "  else:\n",
        "    print(\"sua hora chegará! \")\n",
        "verificacao_idade()"
      ],
      "metadata": {
        "colab": {
          "base_uri": "https://localhost:8080/"
        },
        "id": "xL0v9iH8ivGv",
        "outputId": "da22997a-507b-4ead-b235-5fc64e9d5cde"
      },
      "execution_count": 161,
      "outputs": [
        {
          "output_type": "stream",
          "name": "stdout",
          "text": [
            "Informe sua idade: 100\n",
            " Tá liberado! \n"
          ]
        }
      ]
    },
    {
      "cell_type": "code",
      "source": [
        "verificacao_idade()"
      ],
      "metadata": {
        "colab": {
          "base_uri": "https://localhost:8080/"
        },
        "id": "AqzKnqIFi5s-",
        "outputId": "4be8c926-57c0-440d-c35d-c4819120bc1b"
      },
      "execution_count": 162,
      "outputs": [
        {
          "output_type": "stream",
          "name": "stdout",
          "text": [
            "Informe sua idade: 100\n",
            " Tá liberado! \n"
          ]
        }
      ]
    },
    {
      "cell_type": "markdown",
      "source": [
        "# Cálculo teste"
      ],
      "metadata": {
        "id": "Zhzn6wXBkV-i"
      }
    },
    {
      "cell_type": "code",
      "source": [
        "def velocidade_media():\n",
        "  distancia = input('Informe a distancia: ')\n",
        "  distancia = float(distancia)\n",
        "  tempo = input(\" Informe o tempo de deslocamento: \")\n",
        "  tempo = float (tempo)\n",
        "  velocidade_media = distancia / tempo\n",
        "  velocidade_media = float(velocidade_media)\n",
        "  print(f\"Velocidade é de {round(velocidade_media,2)} m/s\")"
      ],
      "metadata": {
        "id": "gU9cxawelSU4"
      },
      "execution_count": 163,
      "outputs": []
    },
    {
      "cell_type": "code",
      "source": [
        "velocidade_media()\n"
      ],
      "metadata": {
        "colab": {
          "base_uri": "https://localhost:8080/"
        },
        "id": "8hRU4hVllsFS",
        "outputId": "0f31a13e-f0d0-4250-c6d8-f3c7108dde69"
      },
      "execution_count": 164,
      "outputs": [
        {
          "output_type": "stream",
          "name": "stdout",
          "text": [
            "Informe a distancia: 100\n",
            " Informe o tempo de deslocamento: 20\n",
            "Velocidade é de 5.0 m/s\n"
          ]
        }
      ]
    },
    {
      "cell_type": "code",
      "source": [
        ""
      ],
      "metadata": {
        "id": "FdKso6OuluVi"
      },
      "execution_count": 164,
      "outputs": []
    },
    {
      "cell_type": "markdown",
      "source": [
        "# LISTAGEM\n"
      ],
      "metadata": {
        "id": "nGse5CRjn48B"
      }
    },
    {
      "cell_type": "code",
      "source": [
        "idade = 26\n"
      ],
      "metadata": {
        "id": "dGgeeVY5pFzH"
      },
      "execution_count": 165,
      "outputs": []
    },
    {
      "cell_type": "code",
      "source": [
        "type(idade)"
      ],
      "metadata": {
        "colab": {
          "base_uri": "https://localhost:8080/"
        },
        "id": "aUDnePIUpLUV",
        "outputId": "3748047f-fd9f-4ea0-ccfc-90c672ec9f2e"
      },
      "execution_count": 166,
      "outputs": [
        {
          "output_type": "execute_result",
          "data": {
            "text/plain": [
              "int"
            ]
          },
          "metadata": {},
          "execution_count": 166
        }
      ]
    },
    {
      "cell_type": "code",
      "source": [
        "nome = \"Kaymmi\"\n"
      ],
      "metadata": {
        "id": "mhnmpBbIpM2f"
      },
      "execution_count": 167,
      "outputs": []
    },
    {
      "cell_type": "code",
      "source": [
        "type(nome)"
      ],
      "metadata": {
        "colab": {
          "base_uri": "https://localhost:8080/"
        },
        "id": "jqf70i1SpTvq",
        "outputId": "0b4b3d1b-ed4f-4844-ebbb-093d09ec5b78"
      },
      "execution_count": 168,
      "outputs": [
        {
          "output_type": "execute_result",
          "data": {
            "text/plain": [
              "str"
            ]
          },
          "metadata": {},
          "execution_count": 168
        }
      ]
    },
    {
      "cell_type": "code",
      "source": [
        "idades = [26, 22, 51,52]\n",
        "#  indice[0 , 1 ,  2, 3]\n",
        "type(idades)"
      ],
      "metadata": {
        "colab": {
          "base_uri": "https://localhost:8080/"
        },
        "id": "Kk5KnAPipfS_",
        "outputId": "4ef28d24-d8e8-442b-c06c-fa7075926568"
      },
      "execution_count": 169,
      "outputs": [
        {
          "output_type": "execute_result",
          "data": {
            "text/plain": [
              "list"
            ]
          },
          "metadata": {},
          "execution_count": 169
        }
      ]
    },
    {
      "cell_type": "code",
      "source": [
        "idades[3]\n"
      ],
      "metadata": {
        "colab": {
          "base_uri": "https://localhost:8080/"
        },
        "id": "kbc_MT2NpvBj",
        "outputId": "b1fdb288-b96a-48ff-f8d7-f808abfd47b1"
      },
      "execution_count": 170,
      "outputs": [
        {
          "output_type": "execute_result",
          "data": {
            "text/plain": [
              "52"
            ]
          },
          "metadata": {},
          "execution_count": 170
        }
      ]
    },
    {
      "cell_type": "code",
      "source": [
        "idades[1:3]\n",
        "# note que se colocar o zero no primeiro índice ele contará a partir dele e andar de índice à índice e não por quantidade(excluindo o último índice)>> 0, 1 e exclui o 2"
      ],
      "metadata": {
        "colab": {
          "base_uri": "https://localhost:8080/"
        },
        "id": "yXNsj1nTp5-N",
        "outputId": "44375685-f885-4d01-b1ae-3f513e1e875b"
      },
      "execution_count": 171,
      "outputs": [
        {
          "output_type": "execute_result",
          "data": {
            "text/plain": [
              "[22, 51]"
            ]
          },
          "metadata": {},
          "execution_count": 171
        }
      ]
    },
    {
      "cell_type": "code",
      "source": [
        "idades[0:4]"
      ],
      "metadata": {
        "colab": {
          "base_uri": "https://localhost:8080/"
        },
        "id": "VxFZl-zBqfW_",
        "outputId": "2c69148d-dcee-48a1-cccf-441503e45c12"
      },
      "execution_count": 172,
      "outputs": [
        {
          "output_type": "execute_result",
          "data": {
            "text/plain": [
              "[26, 22, 51, 52]"
            ]
          },
          "metadata": {},
          "execution_count": 172
        }
      ]
    },
    {
      "cell_type": "code",
      "source": [
        "idades[0:]"
      ],
      "metadata": {
        "colab": {
          "base_uri": "https://localhost:8080/"
        },
        "id": "NRcy8e6BrguR",
        "outputId": "629635f8-5051-4e79-8b1e-0ad99a128f99"
      },
      "execution_count": 173,
      "outputs": [
        {
          "output_type": "execute_result",
          "data": {
            "text/plain": [
              "[26, 22, 51, 52]"
            ]
          },
          "metadata": {},
          "execution_count": 173
        }
      ]
    },
    {
      "cell_type": "code",
      "source": [
        "idades[-1]"
      ],
      "metadata": {
        "colab": {
          "base_uri": "https://localhost:8080/"
        },
        "id": "tOMUlXigrj4F",
        "outputId": "603da182-a5ae-44a3-c7d0-466e6b53317f"
      },
      "execution_count": 174,
      "outputs": [
        {
          "output_type": "execute_result",
          "data": {
            "text/plain": [
              "52"
            ]
          },
          "metadata": {},
          "execution_count": 174
        }
      ]
    },
    {
      "cell_type": "code",
      "source": [
        "idades[-1:0]"
      ],
      "metadata": {
        "colab": {
          "base_uri": "https://localhost:8080/"
        },
        "id": "VakodzX6rsx1",
        "outputId": "617f83b7-e5a6-42d6-e928-e22841d6f5ac"
      },
      "execution_count": 175,
      "outputs": [
        {
          "output_type": "execute_result",
          "data": {
            "text/plain": [
              "[]"
            ]
          },
          "metadata": {},
          "execution_count": 175
        }
      ]
    },
    {
      "cell_type": "code",
      "source": [
        "idades[0:-3]"
      ],
      "metadata": {
        "colab": {
          "base_uri": "https://localhost:8080/"
        },
        "id": "nNvVRJ1prvMe",
        "outputId": "91b8aced-1024-466d-f56e-c009049a480c"
      },
      "execution_count": 176,
      "outputs": [
        {
          "output_type": "execute_result",
          "data": {
            "text/plain": [
              "[26]"
            ]
          },
          "metadata": {},
          "execution_count": 176
        }
      ]
    },
    {
      "cell_type": "code",
      "source": [
        "idades[0:]"
      ],
      "metadata": {
        "colab": {
          "base_uri": "https://localhost:8080/"
        },
        "id": "RAKDR3t8r88L",
        "outputId": "e84376b8-b73c-4f10-991a-928d79e34c57"
      },
      "execution_count": 177,
      "outputs": [
        {
          "output_type": "execute_result",
          "data": {
            "text/plain": [
              "[26, 22, 51, 52]"
            ]
          },
          "metadata": {},
          "execution_count": 177
        }
      ]
    },
    {
      "cell_type": "code",
      "source": [
        "idades= [26,22,51,52]\n",
        "#         0, 1, 2, 3\n",
        "#         0,-1,-2,-3 "
      ],
      "metadata": {
        "id": "pNLTYbH9r_k3"
      },
      "execution_count": 178,
      "outputs": []
    },
    {
      "cell_type": "code",
      "source": [
        "idades[-3:-1]"
      ],
      "metadata": {
        "colab": {
          "base_uri": "https://localhost:8080/"
        },
        "id": "vfsY6NEnsXfE",
        "outputId": "55696b2b-12f8-469e-84ca-3c8698b85ace"
      },
      "execution_count": 179,
      "outputs": [
        {
          "output_type": "execute_result",
          "data": {
            "text/plain": [
              "[22, 51]"
            ]
          },
          "metadata": {},
          "execution_count": 179
        }
      ]
    },
    {
      "cell_type": "code",
      "source": [
        "idades[-4:]"
      ],
      "metadata": {
        "colab": {
          "base_uri": "https://localhost:8080/"
        },
        "id": "PEhoozOksZoi",
        "outputId": "6113b8f0-07dc-4323-bd54-b4b1e1a0c1fd"
      },
      "execution_count": 142,
      "outputs": [
        {
          "output_type": "execute_result",
          "data": {
            "text/plain": [
              "[26, 22, 51, 52]"
            ]
          },
          "metadata": {},
          "execution_count": 142
        }
      ]
    },
    {
      "cell_type": "markdown",
      "source": [
        "# Laços e loops"
      ],
      "metadata": {
        "id": "sGM9Fm2jtU9K"
      }
    },
    {
      "cell_type": "code",
      "source": [
        "idades = [15, 17, 18,52]"
      ],
      "metadata": {
        "id": "L6W0V_iDtXgO"
      },
      "execution_count": 111,
      "outputs": []
    },
    {
      "cell_type": "code",
      "source": [
        "def verifica_se_pode_dirigir(idade):\n",
        "  if idade >= 18:\n",
        "    print(f\" {idade} anos de idade, Tá liberado! \")\n",
        "  else:\n",
        "    print(f\" {idade} anos de idade, Sua hora vai chegar! \")\n",
        "\n",
        "for idade in idades:\n",
        " verifica_se_pode_dirigir(idade)"
      ],
      "metadata": {
        "colab": {
          "base_uri": "https://localhost:8080/"
        },
        "id": "O4A6KVihWLQ4",
        "outputId": "1d23df03-31b3-4bf7-d5bd-ab9205f18c79"
      },
      "execution_count": 119,
      "outputs": [
        {
          "output_type": "stream",
          "name": "stdout",
          "text": [
            " 15 anos de idade, Sua hora vai chegar! \n",
            " 17 anos de idade, Sua hora vai chegar! \n",
            " 18 anos de idade, Tá liberado! \n",
            " 52 anos de idade, Tá liberado! \n"
          ]
        }
      ]
    },
    {
      "cell_type": "code",
      "source": [
        "verifica_se_pode_dirigir(idade)"
      ],
      "metadata": {
        "colab": {
          "base_uri": "https://localhost:8080/"
        },
        "id": "ZZ9iNhACvvr8",
        "outputId": "550e6f5d-1306-40a7-f9ae-b0692dcbe4f2"
      },
      "execution_count": 118,
      "outputs": [
        {
          "output_type": "stream",
          "name": "stdout",
          "text": [
            " 52 anos de idade, Tá liberado parça! \n"
          ]
        }
      ]
    },
    {
      "cell_type": "markdown",
      "source": [
        "# boleano"
      ],
      "metadata": {
        "id": "noUdB7cFxe63"
      }
    },
    {
      "cell_type": "code",
      "source": [
        "idade = 26\n",
        "idade >= 26"
      ],
      "metadata": {
        "colab": {
          "base_uri": "https://localhost:8080/"
        },
        "id": "xnOTWValwZgw",
        "outputId": "db141d17-063b-409f-9f56-0af7b27b7454"
      },
      "execution_count": 123,
      "outputs": [
        {
          "output_type": "execute_result",
          "data": {
            "text/plain": [
              "True"
            ]
          },
          "metadata": {},
          "execution_count": 123
        }
      ]
    },
    {
      "cell_type": "code",
      "source": [
        "idade =15\n",
        "idade <=14"
      ],
      "metadata": {
        "colab": {
          "base_uri": "https://localhost:8080/"
        },
        "id": "k4GrQ3DwweNH",
        "outputId": "5b9264dc-a926-4ccb-8a82-891026f78006"
      },
      "execution_count": 125,
      "outputs": [
        {
          "output_type": "execute_result",
          "data": {
            "text/plain": [
              "False"
            ]
          },
          "metadata": {},
          "execution_count": 125
        }
      ]
    },
    {
      "cell_type": "code",
      "source": [
        "permissoes = []\n",
        "idades = [20, 14,40]\n",
        "\n",
        "def verifica_se_pode_dirigir(idades,permissoes):\n",
        "  for idade in idades:\n",
        "    if idade >= 18:\n",
        "      permissoes.append(True)\n",
        "    else:\n",
        "      permissoes.append(False)\n",
        "verifica_se_pode_dirigir(idades,permissoes)\n",
        "  "
      ],
      "metadata": {
        "id": "S1cgG5BYwh-V"
      },
      "execution_count": 126,
      "outputs": []
    },
    {
      "cell_type": "code",
      "source": [
        "permissoes\n",
        "#20 ,14 ,40"
      ],
      "metadata": {
        "colab": {
          "base_uri": "https://localhost:8080/"
        },
        "id": "7UPBVQYwyOW3",
        "outputId": "e07b2723-baca-442a-865a-4e6cff1e1d44"
      },
      "execution_count": 127,
      "outputs": [
        {
          "output_type": "execute_result",
          "data": {
            "text/plain": [
              "[True, False, True]"
            ]
          },
          "metadata": {},
          "execution_count": 127
        }
      ]
    },
    {
      "cell_type": "code",
      "source": [
        "for permissoes in permissoes:\n",
        "  if permissoes ==True:\n",
        "    print(\"Tem permissão pra dirigir\")\n",
        "  else:\n",
        "    print(\"Ainda não pode dirigir\")"
      ],
      "metadata": {
        "colab": {
          "base_uri": "https://localhost:8080/"
        },
        "id": "CU0OYmtiyQjN",
        "outputId": "6be43df1-2156-4361-e77b-56ee3068216f"
      },
      "execution_count": 128,
      "outputs": [
        {
          "output_type": "stream",
          "name": "stdout",
          "text": [
            "Tem permissão pra dirigir\n",
            "Ainda não pode dirigir\n",
            "Tem permissão pra dirigir\n"
          ]
        }
      ]
    },
    {
      "cell_type": "markdown",
      "source": [
        "# Valor de a"
      ],
      "metadata": {
        "id": "n75vllwCz92Q"
      }
    },
    {
      "cell_type": "code",
      "source": [
        "a= 2\n",
        "if a < 2:\n",
        "  a = a + 1\n",
        "else:\n",
        "  a = 2 + 2\n",
        "if a < 4:\n",
        "  a = a - 4\n",
        "else:\n",
        "  a = a + 6\n",
        "  a"
      ],
      "metadata": {
        "id": "ESgkI93l0BmP"
      },
      "execution_count": 129,
      "outputs": []
    },
    {
      "cell_type": "code",
      "source": [
        "a"
      ],
      "metadata": {
        "colab": {
          "base_uri": "https://localhost:8080/"
        },
        "id": "ezaVOzpQ0TnF",
        "outputId": "fe95c81f-83e6-4f89-f8a7-6fda0a110aee"
      },
      "execution_count": 130,
      "outputs": [
        {
          "output_type": "execute_result",
          "data": {
            "text/plain": [
              "10"
            ]
          },
          "metadata": {},
          "execution_count": 130
        }
      ]
    },
    {
      "cell_type": "markdown",
      "source": [
        "# Tipos de lista"
      ],
      "metadata": {
        "id": "M_VGyxJEBOIH"
      }
    },
    {
      "cell_type": "code",
      "source": [
        "lista = [\"Kaymmi\", 26, True, \"25\"]\n",
        "for elemento in lista:\n",
        "   print(f\"O elemento {elemento} é do tipo:\", type(elemento))\n"
      ],
      "metadata": {
        "colab": {
          "base_uri": "https://localhost:8080/"
        },
        "id": "oaUieZoDBRBD",
        "outputId": "e7bf26b3-298d-49b0-e853-e606163879b2"
      },
      "execution_count": 131,
      "outputs": [
        {
          "output_type": "stream",
          "name": "stdout",
          "text": [
            "O elemento Kaymmi é do tipo: <class 'str'>\n",
            "O elemento 26 é do tipo: <class 'int'>\n",
            "O elemento True é do tipo: <class 'bool'>\n",
            "O elemento 25 é do tipo: <class 'str'>\n"
          ]
        }
      ]
    },
    {
      "cell_type": "markdown",
      "source": [
        "# Imports"
      ],
      "metadata": {
        "id": "HrZp8iUqErIh"
      }
    },
    {
      "cell_type": "code",
      "source": [
        "from random import randrange, seed"
      ],
      "metadata": {
        "id": "c_eaFr-bEtD2"
      },
      "execution_count": 132,
      "outputs": []
    },
    {
      "cell_type": "code",
      "source": [
        "seed(15)"
      ],
      "metadata": {
        "id": "U3GQ0lqRIxtC"
      },
      "execution_count": 133,
      "outputs": []
    },
    {
      "cell_type": "code",
      "source": [
        "randrange(0, 10)"
      ],
      "metadata": {
        "colab": {
          "base_uri": "https://localhost:8080/"
        },
        "id": "UGG6FmvXFS5O",
        "outputId": "07bd92b2-c768-459d-a6fe-6f39315d1310"
      },
      "execution_count": 134,
      "outputs": [
        {
          "output_type": "execute_result",
          "data": {
            "text/plain": [
              "3"
            ]
          },
          "metadata": {},
          "execution_count": 134
        }
      ]
    },
    {
      "cell_type": "code",
      "source": [
        "notas_matematica = []\n",
        "notas_matematica.append ( randrange (0,11))\n",
        "\n",
        "notas_matematica\n",
        "#Irá emitir somente uma nota"
      ],
      "metadata": {
        "colab": {
          "base_uri": "https://localhost:8080/"
        },
        "id": "uPUCR0t2Fdmc",
        "outputId": "b1c1f976-da9a-4b04-e3a8-de0f947e4f6e"
      },
      "execution_count": 135,
      "outputs": [
        {
          "output_type": "execute_result",
          "data": {
            "text/plain": [
              "[0]"
            ]
          },
          "metadata": {},
          "execution_count": 135
        }
      ]
    },
    {
      "cell_type": "code",
      "source": [
        "# o teste será emitir a quantidade de duas notas por bimestre letivo"
      ],
      "metadata": {
        "id": "AhGtaysIFuXt"
      },
      "execution_count": 136,
      "outputs": []
    },
    {
      "cell_type": "code",
      "source": [
        "notas_matematica =[]\n",
        "for notas in range(8):\n",
        "    notas_matematica.append ( randrange (0,11))\n",
        "\n",
        "\n",
        "notas_matematica"
      ],
      "metadata": {
        "colab": {
          "base_uri": "https://localhost:8080/"
        },
        "id": "vFMomYMvGnnK",
        "outputId": "18bfc4d7-b15a-42db-c373-bdfa0616e072"
      },
      "execution_count": 137,
      "outputs": [
        {
          "output_type": "execute_result",
          "data": {
            "text/plain": [
              "[8, 0, 2, 3, 0, 0, 10, 2]"
            ]
          },
          "metadata": {},
          "execution_count": 137
        }
      ]
    },
    {
      "cell_type": "code",
      "source": [
        "len(notas_matematica)"
      ],
      "metadata": {
        "colab": {
          "base_uri": "https://localhost:8080/"
        },
        "id": "l5c4UpvwIhyw",
        "outputId": "ddbcfdaf-afff-48ff-96cb-9aac3e5cbf6e"
      },
      "execution_count": 138,
      "outputs": [
        {
          "output_type": "execute_result",
          "data": {
            "text/plain": [
              "8"
            ]
          },
          "metadata": {},
          "execution_count": 138
        }
      ]
    },
    {
      "cell_type": "code",
      "source": [
        ""
      ],
      "metadata": {
        "id": "PYX1Gc9GYDQj"
      },
      "execution_count": null,
      "outputs": []
    }
  ]
}